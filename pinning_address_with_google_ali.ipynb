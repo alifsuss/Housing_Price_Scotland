{
 "cells": [
  {
   "cell_type": "code",
   "execution_count": 1,
   "metadata": {},
   "outputs": [],
   "source": [
    "import yaml\n",
    "import requests\n",
    "# Draw Map of indonesia using folium and pin the locations of the addresses\n",
    "import folium\n",
    "import geocoder\n"
   ]
  },
  {
   "cell_type": "code",
   "execution_count": 2,
   "metadata": {},
   "outputs": [],
   "source": [
    "with open(\"certs/certs.yaml\", \"r\") as f:\n",
    "    config = yaml.safe_load(f)\n",
    "    api_key = config[\"google_api_key\"]"
   ]
  },
  {
   "cell_type": "code",
   "execution_count": 3,
   "metadata": {},
   "outputs": [],
   "source": [
    "# export address to yaml\n",
    "with open(\"address.yaml\", \"r\") as f:\n",
    "    adrs = yaml.safe_load(f)    \n",
    "    address_urls = adrs[\"addresses\"]"
   ]
  },
  {
   "cell_type": "code",
   "execution_count": 4,
   "metadata": {},
   "outputs": [
    {
     "data": {
      "text/plain": [
       "[{'red': ['https://maps.app.goo.gl/FjwqoJMeScaRAyEb7',\n",
       "   'https://maps.app.goo.gl/Qg8bkEak6P5npsan9',\n",
       "   'https://maps.app.goo.gl/gUGFkHFh9FmVHNbB6']},\n",
       " {'blue': ['Kampus ITB Bandung']},\n",
       " {'green': ['Telkom Corporate University']}]"
      ]
     },
     "execution_count": 4,
     "metadata": {},
     "output_type": "execute_result"
    }
   ],
   "source": [
    "address_urls"
   ]
  },
  {
   "cell_type": "code",
   "execution_count": 17,
   "metadata": {},
   "outputs": [],
   "source": [
    "def get_address_from_gmap_url(url: str) -> str:\n",
    "    if \"http\" in url:\n",
    "        # Send a GET request and allow redirection\n",
    "        response = requests.get(url, allow_redirects=True)\n",
    "\n",
    "        # Get the final URL after redirection\n",
    "        final_url = response.url\n",
    "\n",
    "        # Split the URL to get the location part\n",
    "        location_part = final_url.split('/place/')[1].split('/')[0]\n",
    "\n",
    "        # Replace '+' with spaces to format the location name\n",
    "        location_name = location_part.replace('+', ' ')\n",
    "\n",
    "        # Print the location name\n",
    "        return location_name\n",
    "    else:\n",
    "        return url\n",
    "\n",
    "def get_longlat_from_address(address:str, api_key:str) -> dict:\n",
    "    url = f\"https://maps.googleapis.com/maps/api/geocode/json?address={address}&key={api_key}\"\n",
    "\n",
    "    response = requests.get(url)\n",
    "    data = response.json()\n",
    "\n",
    "    long = data[\"results\"][0][\"geometry\"][\"location\"][\"lng\"]\n",
    "    lat = data[\"results\"][0][\"geometry\"][\"location\"][\"lat\"]\n",
    "\n",
    "    return {\"address\": address, \"longitude\":long, \"latitude\":lat}"
   ]
  },
  {
   "cell_type": "code",
   "execution_count": 15,
   "metadata": {},
   "outputs": [
    {
     "data": {
      "text/plain": [
       "[{'red': ['https://maps.app.goo.gl/FjwqoJMeScaRAyEb7',\n",
       "   'https://maps.app.goo.gl/Qg8bkEak6P5npsan9',\n",
       "   'https://maps.app.goo.gl/gUGFkHFh9FmVHNbB6']},\n",
       " {'blue': ['Kampus ITB Bandung']},\n",
       " {'green': ['Telkom Corporate University']}]"
      ]
     },
     "execution_count": 15,
     "metadata": {},
     "output_type": "execute_result"
    }
   ],
   "source": [
    "address_urls"
   ]
  },
  {
   "cell_type": "code",
   "execution_count": 21,
   "metadata": {},
   "outputs": [
    {
     "name": "stdout",
     "output_type": "stream",
     "text": [
      "{'red': ['https://maps.app.goo.gl/FjwqoJMeScaRAyEb7', 'https://maps.app.goo.gl/Qg8bkEak6P5npsan9', 'https://maps.app.goo.gl/gUGFkHFh9FmVHNbB6']}\n",
      "{'red': ['https://maps.app.goo.gl/FjwqoJMeScaRAyEb7', 'https://maps.app.goo.gl/Qg8bkEak6P5npsan9', 'https://maps.app.goo.gl/gUGFkHFh9FmVHNbB6']}\n",
      "{'red': ['https://maps.app.goo.gl/FjwqoJMeScaRAyEb7', 'https://maps.app.goo.gl/Qg8bkEak6P5npsan9', 'https://maps.app.goo.gl/gUGFkHFh9FmVHNbB6']}\n",
      "{'blue': ['Kampus ITB Bandung']}\n",
      "{'green': ['Telkom Corporate University']}\n"
     ]
    }
   ],
   "source": [
    "\n",
    "full_addresses = []\n",
    "for address in address_urls:\n",
    "    for urlss in address[list(address.keys())[0]]:\n",
    "        addr = get_address_from_gmap_url(urlss)\n",
    "        full_address = get_longlat_from_address(addr, api_key)\n",
    "        full_address.update({\"color\": f\"{list(address.keys())[0]}\"})\n",
    "        full_addresses.append(full_address)\n",
    "        print(address)"
   ]
  },
  {
   "cell_type": "code",
   "execution_count": 22,
   "metadata": {},
   "outputs": [
    {
     "data": {
      "text/plain": [
       "[{'address': \"62RM%2BW86 Mujagi Farmers' Group, Cipendawa, Pacet, Cianjur Regency, West Java 43253\",\n",
       "  'longitude': 107.0332728,\n",
       "  'latitude': -6.7577098,\n",
       "  'color': 'red'},\n",
       " {'address': '5HV2%2B3PM Sinar Mukti Kelompok Tani, Tugu, Tugumukti, Kec. Cisarua, Kabupaten Bandung Barat, Jawa Barat 40551',\n",
       "  'longitude': 107.5571052,\n",
       "  'latitude': -6.8081473,\n",
       "  'color': 'red'},\n",
       " {'address': 'Hikmah Farm Benih Bibit Kentang Bersertifikat, Jl. PTPN VIII Kertamanah No.1, Pangalengan, Kec. Pangalengan, Kabupaten Bandung, Jawa Barat 40378',\n",
       "  'longitude': 107.5858717,\n",
       "  'latitude': -7.1842683,\n",
       "  'color': 'red'},\n",
       " {'address': 'Kampus ITB Bandung',\n",
       "  'longitude': 107.6104924,\n",
       "  'latitude': -6.8912926,\n",
       "  'color': 'blue'},\n",
       " {'address': 'Telkom Corporate University',\n",
       "  'longitude': 107.5890164,\n",
       "  'latitude': -6.8712049,\n",
       "  'color': 'green'}]"
      ]
     },
     "execution_count": 22,
     "metadata": {},
     "output_type": "execute_result"
    }
   ],
   "source": [
    "full_addresses"
   ]
  },
  {
   "cell_type": "code",
   "execution_count": 25,
   "metadata": {},
   "outputs": [],
   "source": [
    "import json\n",
    "geo_data= \"indonesia-geojson/indonesia-province.json\" \n",
    "with open(geo_data) as f:\n",
    "    geo_data = json.load(f)"
   ]
  },
  {
   "cell_type": "code",
   "execution_count": 26,
   "metadata": {},
   "outputs": [],
   "source": [
    "without_jabar = [x for x in geo_data['features'] if x['properties']['Propinsi'] != 'JAWA BARAT']\n",
    "geo_data['features'] = without_jabar"
   ]
  },
  {
   "cell_type": "code",
   "execution_count": 29,
   "metadata": {},
   "outputs": [],
   "source": [
    "def plot_folium_map(addresses: list, geojson: str = None, zoom_start: int = 8.5, pin:str = \"pin\"):\n",
    "    m = folium.Map(location=[-6.890910999999999, 107.668887], \n",
    "               zoom_start=zoom_start, \n",
    "               control_scale=False,\n",
    "               zoom_control=False,\n",
    "               attr=\"Mapbox Bright\"\n",
    "               )\n",
    "\n",
    "    if geojson is not None:\n",
    "        geo_data= geojson\n",
    "        folium.GeoJson(geo_data).add_to(m)\n",
    "        # white all geojson color opaque 100%, border white \n",
    "        style_function = lambda x: {'fillColor': '#ffffff', 'color': 'white', 'weight': 2, 'fillOpacity': 1}\n",
    "        folium.GeoJson(geo_data, style_function=style_function).add_to(m)\n",
    "\n",
    "    for address in addresses:\n",
    "        if pin == \"circle\":\n",
    "            folium.CircleMarker([address[\"latitude\"], address[\"longitude\"]], radius=5, color=address[\"color\"], fill=True, fill_color=address[\"color\"], fill_opacity=1).add_to(m)\n",
    "        if pin == \"pin\":\n",
    "            folium.Marker([address[\"latitude\"], address[\"longitude\"]], popup=address[\"address\"]).add_to(m)\n",
    "    \n",
    "    return m"
   ]
  },
  {
   "cell_type": "code",
   "execution_count": 30,
   "metadata": {},
   "outputs": [],
   "source": [
    "\n",
    "m = plot_folium_map(full_addresses, geojson=geo_data, zoom_start=8.5, pin= 'circle')\n",
    "m.save('map.html')"
   ]
  },
  {
   "cell_type": "code",
   "execution_count": null,
   "metadata": {},
   "outputs": [],
   "source": []
  }
 ],
 "metadata": {
  "kernelspec": {
   "display_name": "Python 3",
   "language": "python",
   "name": "python3"
  },
  "language_info": {
   "codemirror_mode": {
    "name": "ipython",
    "version": 3
   },
   "file_extension": ".py",
   "mimetype": "text/x-python",
   "name": "python",
   "nbconvert_exporter": "python",
   "pygments_lexer": "ipython3",
   "version": "3.10.13"
  }
 },
 "nbformat": 4,
 "nbformat_minor": 2
}
